{
 "cells": [
  {
   "cell_type": "code",
   "execution_count": 1,
   "metadata": {},
   "outputs": [],
   "source": [
    "import numpy as np\n",
    "from math import sqrt\n",
    "import gzip\n",
    "import shutil\n",
    "import georinex as gr\n",
    "#from scipy.linalg import inv\n",
    "import pandas as pd"
   ]
  },
  {
   "cell_type": "code",
   "execution_count": 13,
   "metadata": {},
   "outputs": [
    {
     "data": {
      "text/plain": [
       "Index(['Unnamed: 0', 'Time_x', 'Sat', 'C1', 'C2', 'L1', 'L2', 'P2', 'S1', 'S2',\n",
       "       'sat', 'x', 'y', 'z', 'clk', 'dist', 'Unnamed: 6', 'Unnamed: 7',\n",
       "       'Unnamed: 8', 'Unnamed: 9', 'code', 'Time_y', 'dunno', 'clk_offset',\n",
       "       'clk_rate'],\n",
       "      dtype='object')"
      ]
     },
     "execution_count": 13,
     "metadata": {},
     "output_type": "execute_result"
    }
   ],
   "source": [
    "rinex = pd.read_csv('Data/rnx_010000.csv')\n",
    "sp3 = pd.read_csv('Data/sp3_010000.csv')\n",
    "clock = pd.read_csv('Data/clk_010000.csv')\n",
    "\n",
    "rinex_clean = rinex[rinex['C1'].notna()].copy()\n",
    "rinex_clean['sat'] = rinex_clean['Sat']\n",
    "\n",
    "merge1 = pd.merge(rinex_clean, sp3, on=['sat'], how='left')\n",
    "merged = pd.merge(merge1, clock, on=['sat'], how='left')\n",
    "\n",
    "c = 299792458.0\n",
    "\n",
    "merged.columns"
   ]
  },
  {
   "cell_type": "code",
   "execution_count": 38,
   "metadata": {},
   "outputs": [
    {
     "name": "stdout",
     "output_type": "stream",
     "text": [
      "Converged after 3 iterations\n",
      "\n",
      "Initial Rough Guess C211 Position at 2022-01-20 01:00:00 (ECEF):\n",
      "x: 4750000.00 m\n",
      "y: -5050000.00 m\n",
      "z: -350000.00 m\n",
      "\n",
      "Estimated C211 Position at 2022-01-20 01:00:00 (ECEF):\n",
      "x: 4735425.49 m\n",
      "y: -5038408.64 m\n",
      "z: -329611.42 m\n",
      "\n",
      "Receiver Clock Bias: -0.00000030 microseconds\n",
      "Distance from Earth center: 6922316.08 m (Altitude: 544.32 km)\n"
     ]
    }
   ],
   "source": [
    "import numpy as np\n",
    "import pandas as pd\n",
    "\n",
    "c = 299792458\n",
    "initial_guess = np.array([4750000.0, -5050000.0, -350000.0, 0.0])\n",
    "\n",
    "\n",
    "df = merged\n",
    "pseudoranges = df['C1'].values\n",
    "sat_positions = df[['x', 'y', 'z']].values *1000  # Already in meters, no * 1000\n",
    "sat_clock_biases = df['clk_offset'].values\n",
    "\n",
    "\n",
    "def compute_geometry_matrix(rec_pos, sat_pos):\n",
    "    G = np.zeros((len(sat_pos), 4))\n",
    "    for i, pos in enumerate(sat_pos):\n",
    "        dx = pos[0] - rec_pos[0]\n",
    "        dy = pos[1] - rec_pos[1]\n",
    "        dz = pos[2] - rec_pos[2]\n",
    "        r = np.sqrt(dx**2 + dy**2 + dz**2)\n",
    "        if r < 1e-10: r = 1e-10\n",
    "        G[i, 0] = -dx / r\n",
    "        G[i, 1] = -dy / r\n",
    "        G[i, 2] = -dz / r\n",
    "        G[i, 3] = c\n",
    "    return G\n",
    "\n",
    "def compute_predicted_pseudoranges(rec_pos, sat_pos, sat_clocks, rec_clock):\n",
    "    predicted = np.zeros(len(sat_pos))\n",
    "    for i, pos in enumerate(sat_pos):\n",
    "        r = np.sqrt((pos[0] - rec_pos[0])**2 + (pos[1] - rec_pos[1])**2 + (pos[2] - rec_pos[2])**2)\n",
    "        predicted[i] = r + c * (rec_clock - sat_clocks[i])\n",
    "    return predicted\n",
    "\n",
    "def position_least_squares(pseudoranges, sat_positions, sat_clock_biases, initial_guess, max_iter=10, tol=0.1):\n",
    "    x = initial_guess.copy()\n",
    "    for iteration in range(max_iter):\n",
    "        predicted = compute_predicted_pseudoranges(x[:3], sat_positions, sat_clock_biases, x[3] / c)\n",
    "        residuals = pseudoranges - predicted\n",
    "        G = compute_geometry_matrix(x[:3], sat_positions)\n",
    "        rank = np.linalg.matrix_rank(G)\n",
    "        if rank < 4:\n",
    "            print(f\"Iteration {iteration + 1}: Rank = {rank}\")\n",
    "            return None, None\n",
    "        delta_x, _, _, _ = np.linalg.lstsq(G, residuals, rcond=None)\n",
    "        x += delta_x\n",
    "        if np.linalg.norm(delta_x[:3]) < tol:\n",
    "            print(f\"Converged after {iteration + 1} iterations\")\n",
    "            break\n",
    "    return x[:3], x[3] / c\n",
    "\n",
    "estimated_pos, clock_bias = position_least_squares(\n",
    "    pseudoranges, sat_positions, sat_clock_biases, initial_guess\n",
    ")\n",
    "\n",
    "if estimated_pos is not None:\n",
    "    print()\n",
    "    print(f\"Initial Rough Guess C211 Position at 2022-01-20 01:00:00 (ECEF):\")\n",
    "    print(f\"x: {initial_guess[0]:.2f} m\")\n",
    "    print(f\"y: {initial_guess[1]:.2f} m\")\n",
    "    print(f\"z: {initial_guess[2]:.2f} m\")\n",
    "    \n",
    "    print()\n",
    "\n",
    "    print(f\"Estimated C211 Position at 2022-01-20 01:00:00 (ECEF):\")\n",
    "    print(f\"x: {estimated_pos[0]:.2f} m\")\n",
    "    print(f\"y: {estimated_pos[1]:.2f} m\")\n",
    "    print(f\"z: {estimated_pos[2]:.2f} m\")\n",
    "    print()\n",
    "    print(f\"Receiver Clock Bias: {clock_bias*1e6:.8f} microseconds\")\n",
    "    r = np.sqrt(np.sum(estimated_pos**2))\n",
    "    print(f\"Distance from Earth center: {r:.2f} m (Altitude: {(r - 6378000)/1000:.2f} km)\")\n",
    "else:\n",
    "    print(\"Failed to compute position\")"
   ]
  }
 ],
 "metadata": {
  "kernelspec": {
   "display_name": "fp_env",
   "language": "python",
   "name": "python3"
  },
  "language_info": {
   "codemirror_mode": {
    "name": "ipython",
    "version": 3
   },
   "file_extension": ".py",
   "mimetype": "text/x-python",
   "name": "python",
   "nbconvert_exporter": "python",
   "pygments_lexer": "ipython3",
   "version": "3.9.6"
  }
 },
 "nbformat": 4,
 "nbformat_minor": 2
}
